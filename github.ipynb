{
 "cells": [
  {
   "cell_type": "markdown",
   "metadata": {},
   "source": [
    "# GitHub Social Network\n",
    "\n",
    "*Angelina Khatiwada, MSc Data Science and Economics, UNIMI*\n",
    "\n",
    "Dec, 2020\n",
    "\n",
    "**Network description**:\n",
    "\n",
    "A large social network of GitHub developers which was collected from the public API in June 2019. Nodes are developers who have starred at least 10 repositories and edges are mutual follower relationships between them. \n",
    "\n",
    "Properties (from project website):\n",
    "\n",
    "- Undirected graph\n",
    "- Node features: Yes.\n",
    "- Edge features: No.\n",
    "- Node labels: Yes. Binary-labeled.\n",
    "- Nodes: 37,700\n",
    "- Edges: 289,003\n",
    "- Density: 0.001\n",
    "- Transitvity: 0.013\n",
    "\n",
    "\n",
    "Source: https://snap.stanford.edu/data/github-social.html"
   ]
  },
  {
   "cell_type": "markdown",
   "metadata": {},
   "source": [
    "### Dataset import and preprocessing"
   ]
  },
  {
   "cell_type": "code",
   "execution_count": 1,
   "metadata": {},
   "outputs": [],
   "source": [
    "import networkx as nx\n",
    "from statsmodels.distributions.empirical_distribution import ECDF\n",
    "import numpy as np\n",
    "import matplotlib.pyplot as plt\n",
    "import scipy.stats\n",
    "import pandas as pd\n",
    "import networkx.algorithms.community as nx_comm\n",
    "import community as community_louvain\n",
    "import matplotlib.cm as cm"
   ]
  },
  {
   "cell_type": "code",
   "execution_count": 2,
   "metadata": {},
   "outputs": [],
   "source": [
    "github = nx.read_edgelist('musae_git_edges.csv',\n",
    "                                  delimiter=',', \n",
    "                                  create_using=nx.Graph(),\n",
    "                                  nodetype=int)"
   ]
  },
  {
   "cell_type": "markdown",
   "metadata": {},
   "source": [
    "**Adding node attributes (name, profession)** from a separate csv file. \n",
    "\n",
    "Github user is either a web or a machine learning developer (binary classification: 0 and 1). This target feature was derived from the job title of each user."
   ]
  },
  {
   "cell_type": "code",
   "execution_count": 3,
   "metadata": {},
   "outputs": [
    {
     "data": {
      "text/html": [
       "<div>\n",
       "<style scoped>\n",
       "    .dataframe tbody tr th:only-of-type {\n",
       "        vertical-align: middle;\n",
       "    }\n",
       "\n",
       "    .dataframe tbody tr th {\n",
       "        vertical-align: top;\n",
       "    }\n",
       "\n",
       "    .dataframe thead th {\n",
       "        text-align: right;\n",
       "    }\n",
       "</style>\n",
       "<table border=\"1\" class=\"dataframe\">\n",
       "  <thead>\n",
       "    <tr style=\"text-align: right;\">\n",
       "      <th></th>\n",
       "      <th>id</th>\n",
       "      <th>name</th>\n",
       "      <th>ml_target</th>\n",
       "    </tr>\n",
       "  </thead>\n",
       "  <tbody>\n",
       "    <tr>\n",
       "      <th>0</th>\n",
       "      <td>0</td>\n",
       "      <td>Eiryyy</td>\n",
       "      <td>0</td>\n",
       "    </tr>\n",
       "    <tr>\n",
       "      <th>1</th>\n",
       "      <td>1</td>\n",
       "      <td>shawflying</td>\n",
       "      <td>0</td>\n",
       "    </tr>\n",
       "    <tr>\n",
       "      <th>2</th>\n",
       "      <td>2</td>\n",
       "      <td>JpMCarrilho</td>\n",
       "      <td>1</td>\n",
       "    </tr>\n",
       "    <tr>\n",
       "      <th>3</th>\n",
       "      <td>3</td>\n",
       "      <td>SuhwanCha</td>\n",
       "      <td>0</td>\n",
       "    </tr>\n",
       "    <tr>\n",
       "      <th>4</th>\n",
       "      <td>4</td>\n",
       "      <td>sunilangadi2</td>\n",
       "      <td>1</td>\n",
       "    </tr>\n",
       "  </tbody>\n",
       "</table>\n",
       "</div>"
      ],
      "text/plain": [
       "   id          name  ml_target\n",
       "0   0        Eiryyy          0\n",
       "1   1    shawflying          0\n",
       "2   2   JpMCarrilho          1\n",
       "3   3     SuhwanCha          0\n",
       "4   4  sunilangadi2          1"
      ]
     },
     "execution_count": 3,
     "metadata": {},
     "output_type": "execute_result"
    }
   ],
   "source": [
    "github_node_features = pd.read_csv(\"musae_git_target.csv\")\n",
    "github_node_features.head()"
   ]
  },
  {
   "cell_type": "code",
   "execution_count": 4,
   "metadata": {},
   "outputs": [],
   "source": [
    "list_id = github_node_features[\"id\"].to_list() \n",
    "list_prof = github_node_features[\"ml_target\"].to_list()\n",
    "list_name = github_node_features[\"name\"].to_list()"
   ]
  },
  {
   "cell_type": "code",
   "execution_count": 5,
   "metadata": {},
   "outputs": [],
   "source": [
    "dict_prof = dict(zip(list_id, list_prof))\n",
    "dict_name = dict(zip(list_id, list_name))"
   ]
  },
  {
   "cell_type": "code",
   "execution_count": 6,
   "metadata": {},
   "outputs": [],
   "source": [
    "nx.set_node_attributes(github, dict_name, \"name\")\n",
    "nx.set_node_attributes(github, dict_prof, \"prof\")"
   ]
  },
  {
   "cell_type": "code",
   "execution_count": 7,
   "metadata": {},
   "outputs": [
    {
     "name": "stdout",
     "output_type": "stream",
     "text": [
      "Number of nodes: 37700 - Number of links: 289003\n"
     ]
    }
   ],
   "source": [
    "print('Number of nodes: {} - Number of links: {}'.format(github.order(),github.size()))"
   ]
  },
  {
   "cell_type": "markdown",
   "metadata": {},
   "source": [
    "**Calculating graph density**"
   ]
  },
  {
   "cell_type": "code",
   "execution_count": 8,
   "metadata": {},
   "outputs": [
    {
     "name": "stdout",
     "output_type": "stream",
     "text": [
      "Density: 0.0004066878203117068\n"
     ]
    }
   ],
   "source": [
    "github_density = nx.density(github)\n",
    "print(\"Density: \" + str(github_density))"
   ]
  },
  {
   "cell_type": "markdown",
   "metadata": {},
   "source": [
    "Graph density is low and indicates the low fraction of existing links between Github users with respect to the possible links."
   ]
  },
  {
   "cell_type": "markdown",
   "metadata": {},
   "source": [
    "### Degree Analysis"
   ]
  },
  {
   "cell_type": "code",
   "execution_count": 9,
   "metadata": {},
   "outputs": [],
   "source": [
    "github_degree = list(dict(github.degree()).values())"
   ]
  },
  {
   "cell_type": "code",
   "execution_count": 10,
   "metadata": {
    "scrolled": true
   },
   "outputs": [
    {
     "name": "stdout",
     "output_type": "stream",
     "text": [
      "Github Graph Degree statistics: \n",
      "Mean: 15.331724137931035\n",
      "Median: 6.0\n",
      "Standard deviation: 80.78703073980464\n",
      "Maximum: 9458\n",
      "Minimum: 1\n"
     ]
    }
   ],
   "source": [
    "print(\"Github Graph Degree statistics: \")\n",
    "print(\"Mean: \" + str(np.mean(github_degree)))\n",
    "print(\"Median: \" + str(np.median(github_degree))) \n",
    "print(\"Standard deviation: \" + str(np.std(github_degree)))\n",
    "print(\"Maximum: \" + str(np.max(github_degree)))\n",
    "print(\"Minimum: \" + str(np.min(github_degree)))"
   ]
  },
  {
   "cell_type": "markdown",
   "metadata": {},
   "source": [
    "Minimum degree is 1, so there as no isolated nodes.\n",
    "Mean value is higher that median, so we deal with a scale-free network. To verify this we will check degree distribution and compare it to the random network degree distribution."
   ]
  },
  {
   "cell_type": "markdown",
   "metadata": {},
   "source": [
    "### ECDF and ECCDF\n"
   ]
  },
  {
   "cell_type": "code",
   "execution_count": 11,
   "metadata": {},
   "outputs": [
    {
     "data": {
      "text/plain": [
       "Text(0, 0.5, 'ECDF')"
      ]
     },
     "execution_count": 11,
     "metadata": {},
     "output_type": "execute_result"
    },
    {
     "data": {
      "image/png": "[encoded data removed]",
      "text/plain": [
       "<Figure size 576x288 with 1 Axes>"
      ]
     },
     "metadata": {
      "needs_background": "light"
     },
     "output_type": "display_data"
    }
   ],
   "source": [
    "# ECDF in linear scale\n",
    "cdf_function = ECDF(github_degree)\n",
    "x = np.unique(github_degree)\n",
    "y = cdf_function(x)\n",
    "fig_cdf_function = plt.figure(figsize=(8,4)) \n",
    "axes = fig_cdf_function.gca()\n",
    "axes.plot(x,y,color = 'green', linestyle = '--', marker= 'o',ms = 10)\n",
    "axes.set_xlabel('Degree',size = 15)\n",
    "axes.set_ylabel('ECDF',size = 15)"
   ]
  },
  {
   "cell_type": "code",
   "execution_count": 12,
   "metadata": {},
   "outputs": [
    {
     "data": {
      "text/plain": [
       "Text(0, 0.5, 'ECDF')"
      ]
     },
     "execution_count": 12,
     "metadata": {},
     "output_type": "execute_result"
    },
    {
     "data": {
      "image/png": "[encoded data removed]",
      "text/plain": [
       "<Figure size 576x288 with 1 Axes>"
      ]
     },
     "metadata": {
      "needs_background": "light"
     },
     "output_type": "display_data"
    }
   ],
   "source": [
    "# ECDF in loglog scale\n",
    "fig_cdf_function = plt.figure(figsize=(8,4))\n",
    "axes = fig_cdf_function.gca()\n",
    "axes.loglog(x,y,color = 'green', linestyle = '--', marker= 'o',ms = 10)\n",
    "axes.set_xlabel('Degree',size = 15)\n",
    "axes.set_ylabel('ECDF',size = 15)"
   ]
  },
  {
   "cell_type": "code",
   "execution_count": 13,
   "metadata": {},
   "outputs": [
    {
     "data": {
      "text/plain": [
       "Text(0, 0.5, 'ECCDF')"
      ]
     },
     "execution_count": 13,
     "metadata": {},
     "output_type": "execute_result"
    },
    {
     "data": {
      "image/png": "[encoded data removed]",
      "text/plain": [
       "<Figure size 576x288 with 1 Axes>"
      ]
     },
     "metadata": {
      "needs_background": "light"
     },
     "output_type": "display_data"
    }
   ],
   "source": [
    "# ECCDF in loglog scale\n",
    "y = 1-cdf_function(x)\n",
    "fig_ccdf_function = plt.figure(figsize=(8,4))\n",
    "axes = fig_ccdf_function.gca()\n",
    "axes.loglog(x,y,color = 'green', linestyle = '--', marker= 'o',ms = 10)\n",
    "axes.set_xlabel('Degree',size = 15)\n",
    "axes.set_ylabel('ECCDF',size = 15)"
   ]
  },
  {
   "cell_type": "markdown",
   "metadata": {},
   "source": [
    "### Comparison with an Erdos-Renyi random graph G(N, p)"
   ]
  },
  {
   "cell_type": "markdown",
   "metadata": {},
   "source": [
    "Generating a random graph with the same number of nodes N and the probability of nodes to be randomly linked equal to the graph density."
   ]
  },
  {
   "cell_type": "code",
   "execution_count": 14,
   "metadata": {},
   "outputs": [],
   "source": [
    "p = github_density"
   ]
  },
  {
   "cell_type": "code",
   "execution_count": 15,
   "metadata": {},
   "outputs": [],
   "source": [
    "random_graph = nx.fast_gnp_random_graph(github.order(),p)"
   ]
  },
  {
   "cell_type": "code",
   "execution_count": 16,
   "metadata": {},
   "outputs": [
    {
     "name": "stdout",
     "output_type": "stream",
     "text": [
      "Number of nodes: 37700\n",
      "Number of links: 289292\n"
     ]
    }
   ],
   "source": [
    "print('Number of nodes: {}'.format(random_graph.order()))\n",
    "print('Number of links: {}'.format(random_graph.size()))"
   ]
  },
  {
   "cell_type": "markdown",
   "metadata": {},
   "source": [
    "Random graph degree statistics and distribution"
   ]
  },
  {
   "cell_type": "code",
   "execution_count": 17,
   "metadata": {},
   "outputs": [],
   "source": [
    "random_degree = list(dict(random_graph.degree()).values())"
   ]
  },
  {
   "cell_type": "code",
   "execution_count": 18,
   "metadata": {},
   "outputs": [
    {
     "name": "stdout",
     "output_type": "stream",
     "text": [
      "Random Graph Degree statistics: \n",
      "Mean: 15.347055702917771\n",
      "Median: 15.0\n",
      "Standard deviation: 3.8806092222599826\n",
      "Maximum: 33\n",
      "Minimum: 3\n"
     ]
    }
   ],
   "source": [
    "print(\"Random Graph Degree statistics: \")\n",
    "print(\"Mean: \" + str(np.mean(random_degree)))\n",
    "print(\"Median: \" + str(np.median(random_degree))) \n",
    "print(\"Standard deviation: \" + str(np.std(random_degree)))\n",
    "print(\"Maximum: \" + str(np.max(random_degree)))\n",
    "print(\"Minimum: \" + str(np.min(random_degree)))"
   ]
  },
  {
   "cell_type": "code",
   "execution_count": 19,
   "metadata": {},
   "outputs": [
    {
     "data": {
      "text/plain": [
       "Text(0, 0.5, 'ECDF')"
      ]
     },
     "execution_count": 19,
     "metadata": {},
     "output_type": "execute_result"
    },
    {
     "data": {
      "image/png": "[encoded data removed]",
      "text/plain": [
       "<Figure size 576x288 with 1 Axes>"
      ]
     },
     "metadata": {
      "needs_background": "light"
     },
     "output_type": "display_data"
    }
   ],
   "source": [
    "# ECDF Random Graph in linear scale\n",
    "cdf_function = ECDF(random_degree)\n",
    "x = np.unique(random_degree)\n",
    "y = cdf_function(x)\n",
    "fig_cdf_function = plt.figure(figsize=(8,4)) \n",
    "axes = fig_cdf_function.gca()\n",
    "axes.plot(x,y,color = 'orange', linestyle = '--', marker= '+',ms = 10)\n",
    "axes.set_xlabel('Degree',size = 15)\n",
    "axes.set_ylabel('ECDF',size = 15)"
   ]
  },
  {
   "cell_type": "code",
   "execution_count": 20,
   "metadata": {},
   "outputs": [
    {
     "data": {
      "text/plain": [
       "Text(0, 0.5, 'ECDF')"
      ]
     },
     "execution_count": 20,
     "metadata": {},
     "output_type": "execute_result"
    },
    {
     "data": {
      "image/png": "[encoded data removed]",
      "text/plain": [
       "<Figure size 576x288 with 1 Axes>"
      ]
     },
     "metadata": {
      "needs_background": "light"
     },
     "output_type": "display_data"
    }
   ],
   "source": [
    "# ECDF Random Graph in loglog scale\n",
    "fig_cdf_function = plt.figure(figsize=(8,4))\n",
    "axes = fig_cdf_function.gca()\n",
    "axes.loglog(x,y,color = 'orange', linestyle = '--', marker= '+',ms = 10)\n",
    "axes.set_xlabel('Degree',size = 15)\n",
    "axes.set_ylabel('ECDF',size = 15)"
   ]
  },
  {
   "cell_type": "code",
   "execution_count": 21,
   "metadata": {
    "scrolled": true
   },
   "outputs": [
    {
     "data": {
      "text/plain": [
       "Text(0, 0.5, 'ECCDF')"
      ]
     },
     "execution_count": 21,
     "metadata": {},
     "output_type": "execute_result"
    },
    {
     "data": {
      "image/png": "[encoded data removed]",
      "text/plain": [
       "<Figure size 576x288 with 1 Axes>"
      ]
     },
     "metadata": {
      "needs_background": "light"
     },
     "output_type": "display_data"
    }
   ],
   "source": [
    "# ECCDF Random Graph in loglog scale\n",
    "y = 1-cdf_function(x)\n",
    "fig_ccdf_function = plt.figure(figsize=(8,4))\n",
    "axes = fig_ccdf_function.gca()\n",
    "axes.loglog(x,y,color = 'orange', linestyle = '--', marker= '+',ms = 10)\n",
    "axes.set_xlabel('Degree',size = 15)\n",
    "axes.set_ylabel('ECCDF',size = 15)"
   ]
  },
  {
   "cell_type": "markdown",
   "metadata": {},
   "source": [
    "Comparing Github network (green) and random graph (yellow) ECCDFs"
   ]
  },
  {
   "cell_type": "code",
   "execution_count": 22,
   "metadata": {},
   "outputs": [
    {
     "data": {
      "text/plain": [
       "Text(0, 0.5, 'ECCDF')"
      ]
     },
     "execution_count": 22,
     "metadata": {},
     "output_type": "execute_result"
    },
    {
     "data": {
      "image/png": "[encoded data removed]",
      "text/plain": [
       "<Figure size 576x288 with 1 Axes>"
      ]
     },
     "metadata": {
      "needs_background": "light"
     },
     "output_type": "display_data"
    }
   ],
   "source": [
    "cdf = ECDF(github_degree)\n",
    "x = np.unique(github_degree)\n",
    "y = cdf(x)\n",
    "\n",
    "cdf_random = ECDF(random_degree)\n",
    "x_random = np.unique(random_degree)\n",
    "y_random = cdf_random(x_random)\n",
    "\n",
    "fig_cdf_fb = plt.figure(figsize=(8,4))\n",
    "axes = fig_cdf_fb.gca()\n",
    "axes.set_xscale('log')\n",
    "axes.set_yscale('log')\n",
    "axes.loglog(x,1-y,marker='o',ms=10, color='green', linestyle='--')\n",
    "axes.loglog(x_random,1-y_random,marker='+',ms=10, color='orange', linestyle='--')\n",
    "axes.set_xlabel('Degree',size=15)\n",
    "axes.set_ylabel('ECCDF', size = 15)"
   ]
  },
  {
   "cell_type": "markdown",
   "metadata": {},
   "source": [
    "Github graph degree distribution follows Power Law (Heavy Tail distribution) while random graph degree distribution is Poisson distribution. Heavy Tail indicates presence of hubs and the scale-free property of the network.\n",
    "\n",
    "In random networks all nodes are alike, but in real networks there is a small number of vertices with a high degree level and most of the nodes have a low degree."
   ]
  },
  {
   "cell_type": "markdown",
   "metadata": {},
   "source": [
    " ### Hubs and isolated nodes\n"
   ]
  },
  {
   "cell_type": "code",
   "execution_count": 23,
   "metadata": {},
   "outputs": [
    {
     "name": "stdout",
     "output_type": "stream",
     "text": [
      "138.01000000000204\n"
     ]
    }
   ],
   "source": [
    "percentile_99 = np.percentile(github_degree,99)\n",
    "print(percentile_99)"
   ]
  },
  {
   "cell_type": "markdown",
   "metadata": {},
   "source": [
    "Nodes that have a degree higher that 138 will be considered as hubs"
   ]
  },
  {
   "cell_type": "code",
   "execution_count": 24,
   "metadata": {},
   "outputs": [
    {
     "name": "stdout",
     "output_type": "stream",
     "text": [
      "377\n",
      "[29982, 21142, 20363, 27803, 18876, 31890, 18562, 33643, 30199, 35773, 11273, 21864, 9051, 26666, 19253, 36652, 10080, 14003, 4793, 23589, 2078, 27450, 19222, 16321, 22666, 36578, 13638, 18850, 1923, 11271, 30002, 7027, 35008, 6229, 20854, 11051, 5629, 33988, 30809, 18638, 31126, 7825, 23838, 8635, 4174, 17787, 23204, 33671, 18163, 29892, 29082, 3922, 34114, 9553, 22321, 15191, 14242, 5300, 33029, 6790, 19358, 30235, 7976, 3712, 32060, 10840, 2431, 5061, 32718, 15554, 3153, 29055, 34606, 35523, 11225, 3491, 31525, 7075, 10001, 6631, 23664, 12505, 15940, 36628, 29886, 22881, 1483, 18701, 25477, 11279, 15074, 7562, 27363, 16119, 22452, 34536, 9677, 31518, 29052, 6301, 10595, 21358, 35388, 5323, 29421, 24347, 6645, 22642, 20236, 25249, 5506, 31917, 6134, 2300, 33471, 37193, 73, 7006, 10830, 4210, 27370, 13656, 24499, 25424, 31659, 33410, 16496, 6005, 11927, 10154, 14400, 31217, 8753, 34774, 15313, 33366, 848, 11573, 9008, 32415, 30670, 28957, 21375, 974, 18406, 8357, 1095, 10403, 33128, 33799, 7104, 19114, 29023, 32753, 24207, 29645, 7211, 1089, 17854, 4757, 4847, 18945, 26110, 11081, 1295, 31170, 25210, 20173, 29439, 31102, 4333, 6149, 22606, 34603, 36620, 5673, 24473, 12978, 5188, 27106, 4128, 5547, 17395, 12209, 7195, 1085, 22442, 13058, 35822, 14670, 28777, 36819, 7339, 4370, 19153, 26958, 8518, 2281, 23050, 22329, 25102, 18035, 5210, 494, 27048, 14954, 22832, 15750, 4001, 13028, 37471, 17649, 26343, 21851, 21411, 26734, 20193, 15669, 32509, 24718, 28944, 17010, 6183, 21754, 25630, 16390, 18663, 27824, 22782, 33206, 22353, 20506, 13365, 31141, 36289, 27302, 2152, 33069, 18825, 11242, 8054, 25958, 13598, 11814, 10568, 37289, 17099, 28595, 32714, 11534, 15192, 16631, 2347, 13647, 29212, 33837, 15460, 2635, 33338, 31365, 24830, 13998, 33952, 7317, 23576, 13857, 21376, 13504, 28118, 20974, 22359, 26457, 14865, 9395, 34747, 21390, 13883, 29552, 35051, 35876, 3990, 7631, 14176, 36790, 26946, 27082, 2397, 15115, 2442, 36468, 5315, 36788, 26003, 6578, 25812, 1979, 28217, 35828, 37107, 27233, 25575, 32066, 12461, 34390, 26604, 26053, 18084, 1526, 25166, 18320, 1030, 28602, 19645, 17792, 31376, 6165, 26649, 26956, 22130, 7513, 29078, 18651, 4447, 15405, 26827, 21447, 35522, 13838, 15906, 17675, 33296, 9780, 20978, 1164, 36528, 19738, 22854, 22196, 1445, 20528, 13708, 12280, 7491, 9633, 7598, 31367, 36772, 17420, 16098, 11588, 23818, 30969, 28852, 15994, 37690, 33594, 37535, 25576, 9532, 16726, 7267, 18996, 29912, 29710, 23881, 2896, 24049, 37490, 17726, 37557, 7213, 28419, 23764, 23837, 94, 13719, 29283]\n"
     ]
    }
   ],
   "source": [
    "hub = [k for k,v in dict(github.degree()).items() if v>= percentile_99]\n",
    "print(len(hub))\n",
    "print(list(hub))"
   ]
  },
  {
   "cell_type": "code",
   "execution_count": 25,
   "metadata": {},
   "outputs": [
    {
     "name": "stdout",
     "output_type": "stream",
     "text": [
      "[]\n"
     ]
    }
   ],
   "source": [
    "print(list(nx.isolates(github)))"
   ]
  },
  {
   "cell_type": "markdown",
   "metadata": {},
   "source": [
    "There are 377 hubs and no isolated nodes (confirmed by minimum degree = 1) in the network among 37,700 nodes"
   ]
  },
  {
   "cell_type": "markdown",
   "metadata": {},
   "source": [
    "### Connectivity"
   ]
  },
  {
   "cell_type": "code",
   "execution_count": 26,
   "metadata": {},
   "outputs": [
    {
     "name": "stdout",
     "output_type": "stream",
     "text": [
      "True\n",
      "1\n"
     ]
    }
   ],
   "source": [
    "print(nx.is_connected(github))\n",
    "print(nx.number_connected_components(github))"
   ]
  },
  {
   "cell_type": "markdown",
   "metadata": {},
   "source": [
    "The network has 1 connected component."
   ]
  },
  {
   "cell_type": "markdown",
   "metadata": {},
   "source": [
    "### Transitivity"
   ]
  },
  {
   "cell_type": "markdown",
   "metadata": {},
   "source": [
    "**Triangles**\n",
    "\n",
    "Computing the number of triangles. Each triangle is counted three times, once at each node. "
   ]
  },
  {
   "cell_type": "code",
   "execution_count": 27,
   "metadata": {},
   "outputs": [],
   "source": [
    "github_triangles_list = list(nx.triangles(github).values())"
   ]
  },
  {
   "cell_type": "code",
   "execution_count": 28,
   "metadata": {},
   "outputs": [
    {
     "name": "stdout",
     "output_type": "stream",
     "text": [
      "Triangles statistics: \n",
      "Number of triangles (counted for each node): 1571430\n",
      "Number of triangles (unique value)): 523810.0\n",
      "Mean number of triangles: 41.682493368700264\n",
      "Maximum number of triangles: 80286\n",
      "Minimum number of triangles: 0\n"
     ]
    }
   ],
   "source": [
    "print(\"Triangles statistics: \")\n",
    "print(\"Number of triangles (counted for each node): \" + str(np.sum(github_triangles_list)))\n",
    "print(\"Number of triangles (unique value)): \" + str(np.sum(github_triangles_list)/3))\n",
    "print(\"Mean number of triangles: \" + str(np.mean(github_triangles_list)))\n",
    "print(\"Maximum number of triangles: \" + str(np.max(github_triangles_list)))\n",
    "print(\"Minimum number of triangles: \" + str(np.min(github_triangles_list)))"
   ]
  },
  {
   "cell_type": "markdown",
   "metadata": {},
   "source": [
    "**Transitivity**\n",
    "\n",
    "Transitivity is a global custering coefficient, fraction of closed triangles to all possible triangles present in the network. Transitivity of the complete graph is 1."
   ]
  },
  {
   "cell_type": "code",
   "execution_count": 29,
   "metadata": {},
   "outputs": [
    {
     "name": "stdout",
     "output_type": "stream",
     "text": [
      "0.012357188884259466\n"
     ]
    }
   ],
   "source": [
    "transitivity = nx.transitivity(github)\n",
    "print(transitivity)"
   ]
  },
  {
   "cell_type": "markdown",
   "metadata": {},
   "source": [
    "Transitivity value is low, and it shows a low fraction of closed triangles in the network. "
   ]
  },
  {
   "cell_type": "markdown",
   "metadata": {},
   "source": [
    "**Local clustering coefficient**\n",
    "\n",
    "Shows the fraction of triangles that actually exist over all possible triangles in a node's neighborhood"
   ]
  },
  {
   "cell_type": "code",
   "execution_count": 30,
   "metadata": {
    "scrolled": true
   },
   "outputs": [
    {
     "name": "stdout",
     "output_type": "stream",
     "text": [
      "github - average local clustering: 0.16753704480107323\n"
     ]
    }
   ],
   "source": [
    "print('github - average local clustering: {}'.format(nx.average_clustering(github)))"
   ]
  },
  {
   "cell_type": "code",
   "execution_count": 31,
   "metadata": {},
   "outputs": [
    {
     "name": "stdout",
     "output_type": "stream",
     "text": [
      "Local Clustering Coefficient statistics: \n",
      "github - mean local clustering: 0.1675370448010758\n",
      "github - standard deviation local clustering: 0.22516458177272095\n",
      "github - median local clustering: 0.1\n",
      "github - max local clustering: 1.0\n",
      "github - min local clustering: 0.0\n"
     ]
    }
   ],
   "source": [
    "print(\"Local Clustering Coefficient statistics: \")\n",
    "print('github - mean local clustering: {}'.format(np.mean(list(nx.clustering(github).values()))))\n",
    "print('github - standard deviation local clustering: {}'.format(np.std(list(nx.clustering(github).values()))))\n",
    "print('github - median local clustering: {}'.format(np.median(list(nx.clustering(github).values()))))\n",
    "print('github - max local clustering: {}'.format(np.max(list(nx.clustering(github).values()))))\n",
    "print('github - min local clustering: {}'.format(np.min(list(nx.clustering(github).values()))))"
   ]
  },
  {
   "cell_type": "markdown",
   "metadata": {},
   "source": [
    "Average local clustering coefficient is 0.1675 and shows that nodes tend to form clusters in the neighborhood. On average, social networks are characterized by a relatively high density of ties (high average local clustering coefficient).\n",
    "\n",
    "We can explore the local clustering coefficient distribution"
   ]
  },
  {
   "cell_type": "code",
   "execution_count": 32,
   "metadata": {},
   "outputs": [],
   "source": [
    "local_clustering_github = list(nx.clustering(github).values())"
   ]
  },
  {
   "cell_type": "code",
   "execution_count": 33,
   "metadata": {
    "scrolled": false
   },
   "outputs": [
    {
     "data": {
      "text/plain": [
       "Text(0, 0.5, 'ECDF')"
      ]
     },
     "execution_count": 33,
     "metadata": {},
     "output_type": "execute_result"
    },
    {
     "data": {
      "image/png": "[encoded data removed]",
      "text/plain": [
       "<Figure size 576x288 with 1 Axes>"
      ]
     },
     "metadata": {
      "needs_background": "light"
     },
     "output_type": "display_data"
    }
   ],
   "source": [
    "# ECDF in linear scale\n",
    "cdf_function = ECDF(local_clustering_github)\n",
    "x = np.unique(local_clustering_github)\n",
    "y = cdf_function(x)\n",
    "fig_cdf_function = plt.figure(figsize=(8,4)) \n",
    "axes = fig_cdf_function.gca()\n",
    "axes.plot(x,y,color = 'blue', linestyle = '--', marker= 'o',ms = 5)\n",
    "axes.set_xlabel('Local clustering coefficient',size = 15)\n",
    "axes.set_ylabel('ECDF',size = 15)"
   ]
  },
  {
   "cell_type": "code",
   "execution_count": 34,
   "metadata": {},
   "outputs": [
    {
     "data": {
      "text/plain": [
       "Text(0, 0.5, 'ECDF')"
      ]
     },
     "execution_count": 34,
     "metadata": {},
     "output_type": "execute_result"
    },
    {
     "data": {
      "image/png": "[encoded data removed]",
      "text/plain": [
       "<Figure size 576x288 with 1 Axes>"
      ]
     },
     "metadata": {
      "needs_background": "light"
     },
     "output_type": "display_data"
    }
   ],
   "source": [
    "# ECDF in loglog scale\n",
    "fig_cdf_function = plt.figure(figsize=(8,4))\n",
    "axes = fig_cdf_function.gca()\n",
    "axes.loglog(x,y,color = 'blue', linestyle = '--', marker= 'o',ms = 5)\n",
    "axes.set_xlabel('Local clustering coefficient',size = 15)\n",
    "axes.set_ylabel('ECDF',size = 15)"
   ]
  },
  {
   "cell_type": "code",
   "execution_count": 35,
   "metadata": {},
   "outputs": [
    {
     "data": {
      "text/plain": [
       "Text(0, 0.5, 'ECCDF')"
      ]
     },
     "execution_count": 35,
     "metadata": {},
     "output_type": "execute_result"
    },
    {
     "data": {
      "image/png": "[encoded data removed]",
      "text/plain": [
       "<Figure size 576x288 with 1 Axes>"
      ]
     },
     "metadata": {
      "needs_background": "light"
     },
     "output_type": "display_data"
    }
   ],
   "source": [
    "# ECCDF in loglog scale\n",
    "y = 1-cdf_function(x)\n",
    "fig_ccdf_function = plt.figure(figsize=(8,4))\n",
    "axes = fig_ccdf_function.gca()\n",
    "axes.loglog(x,y,color = 'blue', linestyle = '--', marker= 'o',ms = 5)\n",
    "axes.set_xlabel('Local clustering coefficient',size = 15)\n",
    "axes.set_ylabel('ECCDF',size = 15)"
   ]
  },
  {
   "cell_type": "markdown",
   "metadata": {},
   "source": [
    "There is a number of nodes with a very high local clustering coefficient, but most of the nodes have the value close to the average local clustering coefficient of 0.1675"
   ]
  },
  {
   "cell_type": "code",
   "execution_count": 36,
   "metadata": {
    "scrolled": true
   },
   "outputs": [
    {
     "name": "stdout",
     "output_type": "stream",
     "text": [
      "Pearson coefficient and p-value between Degree and Clustering coefficient: \n",
      "(-0.046342409699141884, 2.2042105023712667e-19)\n"
     ]
    }
   ],
   "source": [
    "print(\"Pearson coefficient and p-value between Degree and Clustering coefficient: \")\n",
    "print(scipy.stats.pearsonr(github_degree, local_clustering_github))"
   ]
  },
  {
   "cell_type": "markdown",
   "metadata": {},
   "source": [
    "Higher-degree nodes tend to have a smaller clustering coefficient than low-degree nodes (effect of an \"influencer\") "
   ]
  },
  {
   "cell_type": "markdown",
   "metadata": {},
   "source": [
    "### Centrality\n",
    "\n",
    "Degree centrality, Eigenvector centrality and PageRank are computed as the most relevant and efficient mesaures of centrality.\n",
    "\n",
    "Betweenness and Closeness cenrality cause some computational issues, therefore, are not computed for the Github graph."
   ]
  },
  {
   "cell_type": "markdown",
   "metadata": {},
   "source": [
    "**Degree centrality** of the node is a fraction of nodes it is connected to."
   ]
  },
  {
   "cell_type": "code",
   "execution_count": 37,
   "metadata": {},
   "outputs": [],
   "source": [
    "degree_centrality = nx.degree_centrality(github)"
   ]
  },
  {
   "cell_type": "markdown",
   "metadata": {},
   "source": [
    "**Eigenvector centrality** is a measure of the influence of a node in a network. "
   ]
  },
  {
   "cell_type": "code",
   "execution_count": 38,
   "metadata": {},
   "outputs": [],
   "source": [
    "eigenvector_centrality = nx.eigenvector_centrality(github)"
   ]
  },
  {
   "cell_type": "markdown",
   "metadata": {},
   "source": [
    "**PageRank** is an adjustment of Katz centrality (eigenvector centrality) and determines the importance (ranking) of the nodes."
   ]
  },
  {
   "cell_type": "code",
   "execution_count": 39,
   "metadata": {},
   "outputs": [],
   "source": [
    "pr_centrality = nx.pagerank_scipy(github)"
   ]
  },
  {
   "cell_type": "code",
   "execution_count": 40,
   "metadata": {},
   "outputs": [
    {
     "name": "stdout",
     "output_type": "stream",
     "text": [
      "degree:       (31890, 0.25088198625958247)\n",
      "eigenvector:  (31890, 0.35594895516626784)\n",
      "pagerank:  (31890, 0.35594895516626784)\n"
     ]
    }
   ],
   "source": [
    "hub_degree = sorted(degree_centrality.items(),key = lambda x:x[1], reverse=True)[0]\n",
    "hub_eigenvector = sorted(eigenvector_centrality.items(),key = lambda x:x[1], reverse=True)[0]\n",
    "hub_pagerank = sorted(pr_centrality.items(),key = lambda x:x[1], reverse=True)[0]\n",
    "\n",
    "print('degree:      ',hub_degree)\n",
    "print('eigenvector: ',hub_eigenvector)\n",
    "print('pagerank: ',hub_eigenvector)"
   ]
  },
  {
   "cell_type": "markdown",
   "metadata": {},
   "source": [
    "**Correlation** between centralities\n",
    "\n",
    "Pearson correlation coefficient and p-value. The Pearson correlation coefficient measures the linear relationship between two variables."
   ]
  },
  {
   "cell_type": "code",
   "execution_count": 41,
   "metadata": {},
   "outputs": [
    {
     "name": "stdout",
     "output_type": "stream",
     "text": [
      "Pearson coefficient and p-value between Degree and Eigenvector Centralities: \n",
      "(0.857781088272029, 0.0)\n",
      "------\n",
      "Pearson coefficient and p-value between Degree and PageRank Centralities: \n",
      "(0.9952821864675607, 0.0)\n",
      "------\n",
      "Pearson coefficient and p-value between Eigenvector and PageRank Centralities: \n",
      "(0.8262361098368681, 0.0)\n"
     ]
    }
   ],
   "source": [
    "print(\"Pearson coefficient and p-value between Degree and Eigenvector Centralities: \")\n",
    "print(scipy.stats.pearsonr(list(degree_centrality.values()),list(eigenvector_centrality.values())))\n",
    "print(\"------\")\n",
    "print(\"Pearson coefficient and p-value between Degree and PageRank Centralities: \")\n",
    "print(scipy.stats.pearsonr(list(degree_centrality.values()),list(pr_centrality.values())))\n",
    "print(\"------\")\n",
    "print(\"Pearson coefficient and p-value between Eigenvector and PageRank Centralities: \")\n",
    "print(scipy.stats.pearsonr(list(eigenvector_centrality.values()),list(pr_centrality.values())))"
   ]
  },
  {
   "cell_type": "markdown",
   "metadata": {},
   "source": [
    "Rank correlation: Spearman and Kendall coefficient"
   ]
  },
  {
   "cell_type": "code",
   "execution_count": 42,
   "metadata": {},
   "outputs": [
    {
     "name": "stdout",
     "output_type": "stream",
     "text": [
      "Spearman and Kendall coefficient between Degree and Eigenvector Centralities: \n",
      "SpearmanrResult(correlation=0.7550765031068206, pvalue=0.0)\n",
      "------\n",
      "Spearman and Kendall coefficient between Degree and PageRank Centralities: \n",
      "KendalltauResult(correlation=0.889249324690445, pvalue=0.0)\n",
      "------\n",
      "Spearman and Kendall coefficient between Eigenvector and PageRank Centralities: \n",
      "KendalltauResult(correlation=0.4912125697705139, pvalue=0.0)\n"
     ]
    }
   ],
   "source": [
    "print(\"Spearman and Kendall coefficient between Degree and Eigenvector Centralities: \")\n",
    "print(scipy.stats.spearmanr(list(degree_centrality.values()),list(eigenvector_centrality.values())))\n",
    "print(\"------\")\n",
    "print(\"Spearman and Kendall coefficient between Degree and PageRank Centralities: \")\n",
    "print(scipy.stats.kendalltau(list(degree_centrality.values()),list(pr_centrality.values())))\n",
    "print(\"------\")\n",
    "print(\"Spearman and Kendall coefficient between Eigenvector and PageRank Centralities: \")\n",
    "print(scipy.stats.kendalltau(list(eigenvector_centrality.values()),list(pr_centrality.values())))"
   ]
  },
  {
   "cell_type": "markdown",
   "metadata": {},
   "source": [
    "High degree of correlation between all types of centralities."
   ]
  },
  {
   "cell_type": "markdown",
   "metadata": {},
   "source": [
    "### Assortativity"
   ]
  },
  {
   "cell_type": "markdown",
   "metadata": {},
   "source": [
    "**Assortativity for nominal attributes**"
   ]
  },
  {
   "cell_type": "markdown",
   "metadata": {},
   "source": [
    "Assortativity coefficient is based on Github users' profession feature (0 for Web developers, 1 for ML developers)"
   ]
  },
  {
   "cell_type": "code",
   "execution_count": 43,
   "metadata": {
    "scrolled": true
   },
   "outputs": [
    {
     "name": "stdout",
     "output_type": "stream",
     "text": [
      "0.3778215022223345\n"
     ]
    }
   ],
   "source": [
    "print(nx.attribute_assortativity_coefficient(github,\"prof\")) "
   ]
  },
  {
   "cell_type": "markdown",
   "metadata": {},
   "source": [
    "Assortativity coefficient (network modularity) is positive and high enough, so the network is assortative for this attribute.\n",
    "Assortativity coefficient range is [-1;1].\n",
    "\n",
    "There is a higher probability that similar nodes will be linked than nodes in a random network with the same number of nodes, links and nodes degree. \n",
    "\n",
    "Links are more likely to form between the nodes of the same type. Web developers are more likely to connect to Web developers and ML developers are more likely to other ML developers on Github.\n"
   ]
  },
  {
   "cell_type": "markdown",
   "metadata": {},
   "source": [
    "**Degree assortativity**"
   ]
  },
  {
   "cell_type": "code",
   "execution_count": 44,
   "metadata": {},
   "outputs": [
    {
     "name": "stdout",
     "output_type": "stream",
     "text": [
      "Degree assortativity: -0.07521713413904516\n"
     ]
    }
   ],
   "source": [
    "print(\"Degree assortativity: \" + str(nx.degree_assortativity_coefficient(github)))"
   ]
  },
  {
   "cell_type": "markdown",
   "metadata": {},
   "source": [
    "The assortativity coefficient is the Pearson correlation coefficient of degree between pairs of linked nodes.\n",
    "Negative value of degree assortativity coefficient indicates a correlation between nodes of different degree. The coefficient is close to 0."
   ]
  },
  {
   "cell_type": "markdown",
   "metadata": {},
   "source": [
    "### Community detection\n",
    "\n",
    "We will apply Louvain method for community detection. Greedy implementation is not efficient in this case because of the network size."
   ]
  },
  {
   "cell_type": "code",
   "execution_count": 45,
   "metadata": {},
   "outputs": [],
   "source": [
    "partition_library = community_louvain.best_partition(github)"
   ]
  },
  {
   "cell_type": "code",
   "execution_count": 46,
   "metadata": {},
   "outputs": [
    {
     "name": "stdout",
     "output_type": "stream",
     "text": [
      "{0, 1, 2, 3, 4, 5, 6, 7, 8, 9, 10, 11, 12, 13, 14, 15, 16, 17, 18, 19, 20, 21, 22, 23, 24, 25, 26, 27, 28, 29, 30, 31, 32, 33, 34, 35, 36, 37, 38, 39, 40, 41, 42, 43, 44, 45, 46, 47, 48, 49, 50, 51, 52, 53, 54, 55, 56, 57, 58, 59, 60, 61}\n"
     ]
    }
   ],
   "source": [
    "print(set(partition_library.values()))"
   ]
  },
  {
   "cell_type": "code",
   "execution_count": 47,
   "metadata": {},
   "outputs": [],
   "source": [
    "nx.set_node_attributes(github, partition_library, \"community_library\")"
   ]
  },
  {
   "cell_type": "markdown",
   "metadata": {},
   "source": [
    "**Evaluating communities**"
   ]
  },
  {
   "cell_type": "code",
   "execution_count": 48,
   "metadata": {},
   "outputs": [],
   "source": [
    "comms = set(partition_library.values())"
   ]
  },
  {
   "cell_type": "code",
   "execution_count": 49,
   "metadata": {},
   "outputs": [],
   "source": [
    "list_community_sets_library = [ set() for i in range(len(comms)) ]"
   ]
  },
  {
   "cell_type": "code",
   "execution_count": 50,
   "metadata": {
    "scrolled": true
   },
   "outputs": [],
   "source": [
    "for n, comm in partition_library.items():\n",
    "    list_community_sets_library[comm].add(n)"
   ]
  },
  {
   "cell_type": "code",
   "execution_count": 51,
   "metadata": {
    "scrolled": true
   },
   "outputs": [
    {
     "name": "stdout",
     "output_type": "stream",
     "text": [
      "Coverage 0.6520416743078792\n",
      "Modularity 0.44828640519556545\n"
     ]
    }
   ],
   "source": [
    "#print(\"Coverage\")\n",
    "print(\"Coverage\", nx_comm.coverage(github, list_community_sets_library))\n",
    "#print(\"Modularity\")\n",
    "print(\"Modularity\", nx_comm.modularity(github, list_community_sets_library, weight='weight'))\n",
    "#print(\"Performance\")\n",
    "#print(\"Performance\", nx_comm.performance(G, my_list))"
   ]
  },
  {
   "cell_type": "markdown",
   "metadata": {},
   "source": [
    "Number of communitites and modularity may change as community detection is based on a random process."
   ]
  },
  {
   "cell_type": "markdown",
   "metadata": {},
   "source": [
    "Exploring size distribution of communities"
   ]
  },
  {
   "cell_type": "code",
   "execution_count": 52,
   "metadata": {},
   "outputs": [
    {
     "name": "stdout",
     "output_type": "stream",
     "text": [
      "0 6055\n",
      "1 7810\n",
      "2 7985\n",
      "3 560\n",
      "4 2665\n",
      "5 493\n",
      "6 8516\n",
      "7 355\n",
      "8 2279\n",
      "9 528\n",
      "10 93\n",
      "11 17\n",
      "12 27\n",
      "13 9\n",
      "14 16\n",
      "15 8\n",
      "16 50\n",
      "17 15\n",
      "18 23\n",
      "19 6\n",
      "20 13\n",
      "21 6\n",
      "22 6\n",
      "23 13\n",
      "24 18\n",
      "25 3\n",
      "26 3\n",
      "27 3\n",
      "28 3\n",
      "29 4\n",
      "30 5\n",
      "31 8\n",
      "32 7\n",
      "33 3\n",
      "34 3\n",
      "35 6\n",
      "36 3\n",
      "37 3\n",
      "38 3\n",
      "39 3\n",
      "40 3\n",
      "41 3\n",
      "42 5\n",
      "43 4\n",
      "44 3\n",
      "45 4\n",
      "46 3\n",
      "47 3\n",
      "48 3\n",
      "49 4\n",
      "50 4\n",
      "51 4\n",
      "52 3\n",
      "53 3\n",
      "54 3\n",
      "55 4\n",
      "56 3\n",
      "57 3\n",
      "58 3\n",
      "59 3\n",
      "60 3\n",
      "61 3\n"
     ]
    }
   ],
   "source": [
    "pairs = []\n",
    "for i, nodes in enumerate(list_community_sets_library):\n",
    "    print(i,len(nodes))\n",
    "    comm_size = (i,len(nodes))\n",
    "    pairs.append(comm_size)"
   ]
  },
  {
   "cell_type": "code",
   "execution_count": 53,
   "metadata": {},
   "outputs": [],
   "source": [
    "community_index = []\n",
    "number_of_nodes = []\n",
    "\n",
    "for comm, n_nodes in pairs:\n",
    "    community_index.append(str(comm))\n",
    "    number_of_nodes.append(n_nodes) "
   ]
  },
  {
   "cell_type": "code",
   "execution_count": 54,
   "metadata": {
    "scrolled": true
   },
   "outputs": [
    {
     "data": {
      "text/plain": [
       "Text(0, 0.5, 'Number of nodes')"
      ]
     },
     "execution_count": 54,
     "metadata": {},
     "output_type": "execute_result"
    },
    {
     "data": {
      "image/png": "[encoded data removed]",
      "text/plain": [
       "<Figure size 432x288 with 1 Axes>"
      ]
     },
     "metadata": {
      "needs_background": "light"
     },
     "output_type": "display_data"
    }
   ],
   "source": [
    "plt.bar(community_index,number_of_nodes)\n",
    "plt.xlabel(\"Community\")\n",
    "plt.ylabel(\"Number of nodes\")"
   ]
  },
  {
   "cell_type": "markdown",
   "metadata": {},
   "source": [
    "Exploring the consistency of the profession attribute within communities. Computing percentage of the ML developer in each community"
   ]
  },
  {
   "cell_type": "code",
   "execution_count": 55,
   "metadata": {},
   "outputs": [
    {
     "name": "stdout",
     "output_type": "stream",
     "text": [
      "0 0.15524360033030554 6055\n",
      "1 0.2028169014084507 7810\n",
      "2 0.7115842204132748 7985\n",
      "3 0.31607142857142856 560\n",
      "4 0.0525328330206379 2665\n",
      "5 0.1359026369168357 493\n",
      "6 0.04790981681540629 8516\n",
      "7 0.2507042253521127 355\n",
      "8 0.18209741114523914 2279\n",
      "9 0.18371212121212122 528\n",
      "10 0.20430107526881722 93\n",
      "11 0.5882352941176471 17\n",
      "12 0.14814814814814814 27\n",
      "13 0.1111111111111111 9\n",
      "14 0.6875 16\n",
      "15 0.75 8\n",
      "16 0.7 50\n",
      "17 0.06666666666666667 15\n",
      "18 0.34782608695652173 23\n",
      "19 0.0 6\n",
      "20 0.23076923076923078 13\n",
      "21 1.0 6\n",
      "22 0.5 6\n",
      "23 0.0 13\n",
      "24 0.2777777777777778 18\n",
      "25 0.0 3\n",
      "26 0.0 3\n",
      "27 0.0 3\n",
      "28 0.3333333333333333 3\n",
      "29 0.0 4\n",
      "30 0.2 5\n",
      "31 0.375 8\n",
      "32 0.0 7\n",
      "33 0.0 3\n",
      "34 1.0 3\n",
      "35 0.16666666666666666 6\n",
      "36 0.0 3\n",
      "37 0.0 3\n",
      "38 0.0 3\n",
      "39 1.0 3\n",
      "40 0.0 3\n",
      "41 1.0 3\n",
      "42 0.0 5\n",
      "43 0.0 4\n",
      "44 0.3333333333333333 3\n",
      "45 0.0 4\n",
      "46 0.6666666666666666 3\n",
      "47 0.3333333333333333 3\n",
      "48 0.0 3\n",
      "49 0.0 4\n",
      "50 0.5 4\n",
      "51 0.75 4\n",
      "52 0.3333333333333333 3\n",
      "53 0.6666666666666666 3\n",
      "54 0.3333333333333333 3\n",
      "55 0.0 4\n",
      "56 0.0 3\n",
      "57 0.0 3\n",
      "58 0.0 3\n",
      "59 0.0 3\n",
      "60 0.0 3\n",
      "61 0.0 3\n"
     ]
    }
   ],
   "source": [
    "map_comm_count = []\n",
    "for i, nodes in enumerate(list_community_sets_library):\n",
    "    count_ml = 0\n",
    "    for n in nodes:\n",
    "        prof = github.nodes[n][\"prof\"]\n",
    "        count_ml += prof\n",
    "    percent = count_ml/len(nodes)\n",
    "    print(i, percent, len(nodes))"
   ]
  },
  {
   "cell_type": "markdown",
   "metadata": {},
   "source": [
    "Results: community id, percentage of ML developers, size of the community\n",
    "\n",
    "For large communities there is  either a high percent of ML developers (community 2, size 7640, 0.702) or a low percent(community 1, size 6336, 0.196) which indicates a clear separation between ML and Web developers. The nodes of the same type tend to form communities.\n",
    "\n",
    "Overall in the network there are 74.17% of the 0 type nodes (Web) and 25.83% of 1 type nodes(ML developers)"
   ]
  },
  {
   "cell_type": "markdown",
   "metadata": {},
   "source": [
    "**Centrality in communities**"
   ]
  },
  {
   "cell_type": "code",
   "execution_count": 56,
   "metadata": {},
   "outputs": [],
   "source": [
    "for comm in list_community_sets_library:\n",
    "    subgraph = github.subgraph(comm)"
   ]
  },
  {
   "cell_type": "code",
   "execution_count": 57,
   "metadata": {},
   "outputs": [],
   "source": [
    "centr_comm = {}\n",
    "# node -> centrality in the community subgraph"
   ]
  },
  {
   "cell_type": "markdown",
   "metadata": {},
   "source": [
    "Nodes' centrality in the communities"
   ]
  },
  {
   "cell_type": "code",
   "execution_count": 58,
   "metadata": {},
   "outputs": [],
   "source": [
    "for comm in list_community_sets_library:\n",
    "    subgraph = github.subgraph(comm)\n",
    "    subgraph.order()\n",
    "    nx.degree_centrality(subgraph)\n",
    "    \n",
    "    node_degrees  = nx.degree_centrality(subgraph)\n",
    "    for n,d in node_degrees.items():\n",
    "        centr_comm[n] = d"
   ]
  },
  {
   "cell_type": "code",
   "execution_count": 59,
   "metadata": {},
   "outputs": [],
   "source": [
    "nx.set_node_attributes(github, centr_comm, \"centr_comm\")"
   ]
  },
  {
   "cell_type": "markdown",
   "metadata": {},
   "source": [
    "Checking the existence of bridges"
   ]
  },
  {
   "cell_type": "code",
   "execution_count": 60,
   "metadata": {},
   "outputs": [
    {
     "data": {
      "text/plain": [
       "True"
      ]
     },
     "execution_count": 60,
     "metadata": {},
     "output_type": "execute_result"
    }
   ],
   "source": [
    "nx.has_bridges(github)"
   ]
  },
  {
   "cell_type": "markdown",
   "metadata": {},
   "source": [
    "Writing graph for Gephi"
   ]
  },
  {
   "cell_type": "code",
   "execution_count": 61,
   "metadata": {},
   "outputs": [],
   "source": [
    "nx.write_gexf(github, \"github_graph.gexf\")"
   ]
  }
 ],
 "metadata": {
  "kernelspec": {
   "display_name": "Python 3",
   "language": "python",
   "name": "python3"
  },
  "language_info": {
   "codemirror_mode": {
    "name": "ipython",
    "version": 3
   },
   "file_extension": ".py",
   "mimetype": "text/x-python",
   "name": "python",
   "nbconvert_exporter": "python",
   "pygments_lexer": "ipython3",
   "version": "3.8.5"
  }
 },
 "nbformat": 4,
 "nbformat_minor": 4
}
